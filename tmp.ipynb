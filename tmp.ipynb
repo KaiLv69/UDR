{
 "cells": [
  {
   "cell_type": "code",
   "execution_count": null,
   "metadata": {
    "collapsed": true
   },
   "outputs": [],
   "source": [
    "bm25_fp = \"/remote-home/klv/exps/rtv_icl/v4/exps/test_scorer_e2e_test_1117/e2e_bm25_q_scored_qa.json\"\n",
    "dr_fp = \"/remote-home/klv/exps/rtv_icl/v4/exps/test_scorer_e2e_test_1117/e2e_bm25_a_scored_qa.json\"\n"
   ]
  },
  {
   "cell_type": "code",
   "execution_count": null,
   "outputs": [],
   "source": [
    "import json\n",
    "with open(bm25_fp, 'r') as f:\n",
    "    bm25_sc = json.load(f)\n",
    "with open(dr_fp, 'r') as f:\n",
    "    dr_sc = json.load(f)"
   ],
   "metadata": {
    "collapsed": false
   }
  },
  {
   "cell_type": "code",
   "execution_count": null,
   "outputs": [],
   "source": [
    "dr_res = []\n",
    "bm25_res = []\n",
    "for topk in [1,2,3,4,5,10,15,20]:\n",
    "    bm25_scs = []\n",
    "    for e in bm25_sc:\n",
    "        if len(e['ctxs']) < topk:\n",
    "            continue\n",
    "        for i in range(topk):\n",
    "            bm25_scs.append(e['ctxs'][i]['score'])\n",
    "    dr_scs = []\n",
    "    for e in dr_sc:\n",
    "        if len(e['ctxs']) < topk:\n",
    "            continue\n",
    "        for i in range(topk):\n",
    "            dr_scs.append(e['ctxs'][i]['score'])\n",
    "    dr_res.append(round(sum(dr_scs)/len(dr_scs), 4))\n",
    "    bm25_res.append(round(sum(bm25_scs)/len(bm25_scs), 4))\n",
    "print(\"dr\")\n",
    "for i in dr_res:\n",
    "    print(i)\n",
    "print(\"bm25\")\n",
    "for i in bm25_res:\n",
    "    print(i)"
   ],
   "metadata": {
    "collapsed": false
   }
  }
 ],
 "metadata": {
  "kernelspec": {
   "display_name": "Python 3",
   "language": "python",
   "name": "python3"
  },
  "language_info": {
   "codemirror_mode": {
    "name": "ipython",
    "version": 2
   },
   "file_extension": ".py",
   "mimetype": "text/x-python",
   "name": "python",
   "nbconvert_exporter": "python",
   "pygments_lexer": "ipython2",
   "version": "2.7.6"
  }
 },
 "nbformat": 4,
 "nbformat_minor": 0
}
